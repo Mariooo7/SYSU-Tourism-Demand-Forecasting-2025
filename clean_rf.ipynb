{
 "cells": [
  {
   "cell_type": "code",
   "id": "initial_id",
   "metadata": {
    "collapsed": true,
    "ExecuteTime": {
     "end_time": "2025-04-17T06:21:40.548016Z",
     "start_time": "2025-04-17T06:21:40.257146Z"
    }
   },
   "source": "import pandas as pd",
   "outputs": [],
   "execution_count": 1
  },
  {
   "metadata": {
    "ExecuteTime": {
     "end_time": "2025-04-17T06:21:41.137746Z",
     "start_time": "2025-04-17T06:21:41.125234Z"
    }
   },
   "cell_type": "code",
   "source": "rf = pd.read_csv('data/weather/rf_data.csv', encoding='gbk')",
   "id": "7c5c204a4d204bc7",
   "outputs": [],
   "execution_count": 2
  },
  {
   "metadata": {
    "ExecuteTime": {
     "end_time": "2025-04-17T06:21:41.716722Z",
     "start_time": "2025-04-17T06:21:41.697717Z"
    }
   },
   "cell_type": "code",
   "source": "rf.head()",
   "id": "25e7894eb06a6098",
   "outputs": [
    {
     "data": {
      "text/plain": [
       "   年/Year  月/Month  日/Day 數值/Value 數據完整性/data Completeness\n",
       "0    2023        1      1        0                       C\n",
       "1    2023        1      2    Trace                       C\n",
       "2    2023        1      3    Trace                       C\n",
       "3    2023        1      4    Trace                       C\n",
       "4    2023        1      5    Trace                       C"
      ],
      "text/html": [
       "<div>\n",
       "<style scoped>\n",
       "    .dataframe tbody tr th:only-of-type {\n",
       "        vertical-align: middle;\n",
       "    }\n",
       "\n",
       "    .dataframe tbody tr th {\n",
       "        vertical-align: top;\n",
       "    }\n",
       "\n",
       "    .dataframe thead th {\n",
       "        text-align: right;\n",
       "    }\n",
       "</style>\n",
       "<table border=\"1\" class=\"dataframe\">\n",
       "  <thead>\n",
       "    <tr style=\"text-align: right;\">\n",
       "      <th></th>\n",
       "      <th>年/Year</th>\n",
       "      <th>月/Month</th>\n",
       "      <th>日/Day</th>\n",
       "      <th>數值/Value</th>\n",
       "      <th>數據完整性/data Completeness</th>\n",
       "    </tr>\n",
       "  </thead>\n",
       "  <tbody>\n",
       "    <tr>\n",
       "      <th>0</th>\n",
       "      <td>2023</td>\n",
       "      <td>1</td>\n",
       "      <td>1</td>\n",
       "      <td>0</td>\n",
       "      <td>C</td>\n",
       "    </tr>\n",
       "    <tr>\n",
       "      <th>1</th>\n",
       "      <td>2023</td>\n",
       "      <td>1</td>\n",
       "      <td>2</td>\n",
       "      <td>Trace</td>\n",
       "      <td>C</td>\n",
       "    </tr>\n",
       "    <tr>\n",
       "      <th>2</th>\n",
       "      <td>2023</td>\n",
       "      <td>1</td>\n",
       "      <td>3</td>\n",
       "      <td>Trace</td>\n",
       "      <td>C</td>\n",
       "    </tr>\n",
       "    <tr>\n",
       "      <th>3</th>\n",
       "      <td>2023</td>\n",
       "      <td>1</td>\n",
       "      <td>4</td>\n",
       "      <td>Trace</td>\n",
       "      <td>C</td>\n",
       "    </tr>\n",
       "    <tr>\n",
       "      <th>4</th>\n",
       "      <td>2023</td>\n",
       "      <td>1</td>\n",
       "      <td>5</td>\n",
       "      <td>Trace</td>\n",
       "      <td>C</td>\n",
       "    </tr>\n",
       "  </tbody>\n",
       "</table>\n",
       "</div>"
      ]
     },
     "execution_count": 3,
     "metadata": {},
     "output_type": "execute_result"
    }
   ],
   "execution_count": 3
  },
  {
   "metadata": {
    "ExecuteTime": {
     "end_time": "2025-04-17T06:21:42.896890Z",
     "start_time": "2025-04-17T06:21:42.887892Z"
    }
   },
   "cell_type": "code",
   "source": "rf.columns = ['year', 'month', 'day', 'rain', 'complete']",
   "id": "bbfa80af259203e7",
   "outputs": [],
   "execution_count": 4
  },
  {
   "metadata": {
    "ExecuteTime": {
     "end_time": "2025-04-17T06:21:43.377540Z",
     "start_time": "2025-04-17T06:21:43.354540Z"
    }
   },
   "cell_type": "code",
   "source": [
    "df = rf.copy()\n",
    "df['Date'] = pd.to_datetime(df[['year','month','day']])\n",
    "df.drop(columns=['year','month','day', 'complete'], inplace=True)\n",
    "df.head()"
   ],
   "id": "479374f1542ca65b",
   "outputs": [
    {
     "data": {
      "text/plain": [
       "    rain       Date\n",
       "0      0 2023-01-01\n",
       "1  Trace 2023-01-02\n",
       "2  Trace 2023-01-03\n",
       "3  Trace 2023-01-04\n",
       "4  Trace 2023-01-05"
      ],
      "text/html": [
       "<div>\n",
       "<style scoped>\n",
       "    .dataframe tbody tr th:only-of-type {\n",
       "        vertical-align: middle;\n",
       "    }\n",
       "\n",
       "    .dataframe tbody tr th {\n",
       "        vertical-align: top;\n",
       "    }\n",
       "\n",
       "    .dataframe thead th {\n",
       "        text-align: right;\n",
       "    }\n",
       "</style>\n",
       "<table border=\"1\" class=\"dataframe\">\n",
       "  <thead>\n",
       "    <tr style=\"text-align: right;\">\n",
       "      <th></th>\n",
       "      <th>rain</th>\n",
       "      <th>Date</th>\n",
       "    </tr>\n",
       "  </thead>\n",
       "  <tbody>\n",
       "    <tr>\n",
       "      <th>0</th>\n",
       "      <td>0</td>\n",
       "      <td>2023-01-01</td>\n",
       "    </tr>\n",
       "    <tr>\n",
       "      <th>1</th>\n",
       "      <td>Trace</td>\n",
       "      <td>2023-01-02</td>\n",
       "    </tr>\n",
       "    <tr>\n",
       "      <th>2</th>\n",
       "      <td>Trace</td>\n",
       "      <td>2023-01-03</td>\n",
       "    </tr>\n",
       "    <tr>\n",
       "      <th>3</th>\n",
       "      <td>Trace</td>\n",
       "      <td>2023-01-04</td>\n",
       "    </tr>\n",
       "    <tr>\n",
       "      <th>4</th>\n",
       "      <td>Trace</td>\n",
       "      <td>2023-01-05</td>\n",
       "    </tr>\n",
       "  </tbody>\n",
       "</table>\n",
       "</div>"
      ]
     },
     "execution_count": 5,
     "metadata": {},
     "output_type": "execute_result"
    }
   ],
   "execution_count": 5
  },
  {
   "metadata": {
    "ExecuteTime": {
     "end_time": "2025-04-17T06:21:44.834699Z",
     "start_time": "2025-04-17T06:21:44.813115Z"
    }
   },
   "cell_type": "code",
   "source": "df['rain'].unique()",
   "id": "2f4fde0e568ce5ee",
   "outputs": [
    {
     "data": {
      "text/plain": [
       "array(['0', 'Trace', '5.6', '2.7', '1.2', '0.1', '23', '8.2', '10', '0.2',\n",
       "       '2.3', '0.5', '1.5', '14.2', '4.1', '34.4', '7.1', '30.9', '0.6',\n",
       "       '54.5', '13.7', '11.2', '47.6', '37.1', '3.5', '21', '0.8', '19.1',\n",
       "       '5.7', '42.3', '3.4', '16.2', '13.8', '27.8', '4.7', '45.9',\n",
       "       '38.7', '22.8', '42.6', '55.9', '8.8', '0.3', '2.4', '6.9', '48.5',\n",
       "       '14.3', '32.9', '18.6', '13.6', '1.7', '16.8', '17.8', '44.9',\n",
       "       '13.4', '6.6', '86.3', '15.3', '8.5', '4', '2.1', '23.4', '14.8',\n",
       "       '7', '6.3', '21.8', '8', '3.2', '1.6', '18.3', '73', '95', '4.8',\n",
       "       '90.9', '71', '28.9', '44.5', '73.1', '10.5', '0.9', '9.8', '42.7',\n",
       "       '351.9', '1.1', '3.3', '3.7', '1.3', '0.4', '1.8', '5.5', '14',\n",
       "       '4.3', '10.7', '33.2', '18.4', '24', '33.3', '25.5', '38.3',\n",
       "       '84.7', '5.1', '95.8', '0.7', '22.1', '11', '16.9', '9.1', '47.1',\n",
       "       '42.8', '5.4', '1', '34.9', '5.2', '2.8', '45.3', '2.2', '3.6',\n",
       "       '6.2', '9.7', '1.9', '3.8', '7.6', '12', '17.3', '24.4', '37.6',\n",
       "       '13.3', '49', '16.6', '39.2', '34.3', '12.4', '13.9', '18.8',\n",
       "       '18.9', '60', '11.5', '40.6', '15.4', '42.9', '62.1', '2.9',\n",
       "       '10.4', '16', '5.3', '29.6', '84.1', '7.3', '20', '5', '2'],\n",
       "      dtype=object)"
      ]
     },
     "execution_count": 6,
     "metadata": {},
     "output_type": "execute_result"
    }
   ],
   "execution_count": 6
  },
  {
   "metadata": {
    "ExecuteTime": {
     "end_time": "2025-04-17T06:21:45.801833Z",
     "start_time": "2025-04-17T06:21:45.786832Z"
    }
   },
   "cell_type": "code",
   "source": [
    "# 首先将'Trace'转换为0，然后转换为数值类型\n",
    "df['rain'] = df['rain'].replace('Trace', '0').astype(float)\n",
    "\n",
    "# 定义降雨量分类标准\n",
    "bins = [0, 0.1, 2.5, 7.5, 15, 30, float('inf')]\n",
    "labels = ['无雨', '小雨', '中雨', '大雨', '暴雨', '大暴雨']\n",
    "\n",
    "# 创建分类特征\n",
    "df['rain'] = pd.cut(df['rain'],\n",
    "                         bins=bins,\n",
    "                         labels=labels,\n",
    "                         right=False)"
   ],
   "id": "322e4942223263b6",
   "outputs": [],
   "execution_count": 7
  },
  {
   "metadata": {
    "ExecuteTime": {
     "end_time": "2025-04-17T06:21:46.623690Z",
     "start_time": "2025-04-17T06:21:46.603689Z"
    }
   },
   "cell_type": "code",
   "source": "df.head()",
   "id": "a697aab341558b73",
   "outputs": [
    {
     "data": {
      "text/plain": [
       "  rain       Date\n",
       "0   无雨 2023-01-01\n",
       "1   无雨 2023-01-02\n",
       "2   无雨 2023-01-03\n",
       "3   无雨 2023-01-04\n",
       "4   无雨 2023-01-05"
      ],
      "text/html": [
       "<div>\n",
       "<style scoped>\n",
       "    .dataframe tbody tr th:only-of-type {\n",
       "        vertical-align: middle;\n",
       "    }\n",
       "\n",
       "    .dataframe tbody tr th {\n",
       "        vertical-align: top;\n",
       "    }\n",
       "\n",
       "    .dataframe thead th {\n",
       "        text-align: right;\n",
       "    }\n",
       "</style>\n",
       "<table border=\"1\" class=\"dataframe\">\n",
       "  <thead>\n",
       "    <tr style=\"text-align: right;\">\n",
       "      <th></th>\n",
       "      <th>rain</th>\n",
       "      <th>Date</th>\n",
       "    </tr>\n",
       "  </thead>\n",
       "  <tbody>\n",
       "    <tr>\n",
       "      <th>0</th>\n",
       "      <td>无雨</td>\n",
       "      <td>2023-01-01</td>\n",
       "    </tr>\n",
       "    <tr>\n",
       "      <th>1</th>\n",
       "      <td>无雨</td>\n",
       "      <td>2023-01-02</td>\n",
       "    </tr>\n",
       "    <tr>\n",
       "      <th>2</th>\n",
       "      <td>无雨</td>\n",
       "      <td>2023-01-03</td>\n",
       "    </tr>\n",
       "    <tr>\n",
       "      <th>3</th>\n",
       "      <td>无雨</td>\n",
       "      <td>2023-01-04</td>\n",
       "    </tr>\n",
       "    <tr>\n",
       "      <th>4</th>\n",
       "      <td>无雨</td>\n",
       "      <td>2023-01-05</td>\n",
       "    </tr>\n",
       "  </tbody>\n",
       "</table>\n",
       "</div>"
      ]
     },
     "execution_count": 8,
     "metadata": {},
     "output_type": "execute_result"
    }
   ],
   "execution_count": 8
  },
  {
   "metadata": {
    "ExecuteTime": {
     "end_time": "2025-04-17T06:21:47.542962Z",
     "start_time": "2025-04-17T06:21:47.535963Z"
    }
   },
   "cell_type": "code",
   "source": [
    "# 定义降雨量分类标准和对应的数值编码\n",
    "rain_categories = {\n",
    "    '无雨': 0,\n",
    "    '小雨': 1,\n",
    "    '中雨': 2,\n",
    "    '大雨': 3,\n",
    "    '暴雨': 4,\n",
    "    '大暴雨': 5\n",
    "}\n",
    "\n",
    "# 创建分类特征（使用map函数进行映射，比cut更明确）\n",
    "df['rain'] = df['rain'].map(rain_categories)"
   ],
   "id": "7e6aee3572082675",
   "outputs": [],
   "execution_count": 9
  },
  {
   "metadata": {
    "ExecuteTime": {
     "end_time": "2025-04-17T06:21:48.134704Z",
     "start_time": "2025-04-17T06:21:48.128704Z"
    }
   },
   "cell_type": "code",
   "source": "df.tail()",
   "id": "6e2b9e4656631f5f",
   "outputs": [
    {
     "data": {
      "text/plain": [
       "    rain       Date\n",
       "838    1 2025-04-18\n",
       "839    1 2025-04-19\n",
       "840    0 2025-04-20\n",
       "841    0 2025-04-21\n",
       "842    0 2025-04-22"
      ],
      "text/html": [
       "<div>\n",
       "<style scoped>\n",
       "    .dataframe tbody tr th:only-of-type {\n",
       "        vertical-align: middle;\n",
       "    }\n",
       "\n",
       "    .dataframe tbody tr th {\n",
       "        vertical-align: top;\n",
       "    }\n",
       "\n",
       "    .dataframe thead th {\n",
       "        text-align: right;\n",
       "    }\n",
       "</style>\n",
       "<table border=\"1\" class=\"dataframe\">\n",
       "  <thead>\n",
       "    <tr style=\"text-align: right;\">\n",
       "      <th></th>\n",
       "      <th>rain</th>\n",
       "      <th>Date</th>\n",
       "    </tr>\n",
       "  </thead>\n",
       "  <tbody>\n",
       "    <tr>\n",
       "      <th>838</th>\n",
       "      <td>1</td>\n",
       "      <td>2025-04-18</td>\n",
       "    </tr>\n",
       "    <tr>\n",
       "      <th>839</th>\n",
       "      <td>1</td>\n",
       "      <td>2025-04-19</td>\n",
       "    </tr>\n",
       "    <tr>\n",
       "      <th>840</th>\n",
       "      <td>0</td>\n",
       "      <td>2025-04-20</td>\n",
       "    </tr>\n",
       "    <tr>\n",
       "      <th>841</th>\n",
       "      <td>0</td>\n",
       "      <td>2025-04-21</td>\n",
       "    </tr>\n",
       "    <tr>\n",
       "      <th>842</th>\n",
       "      <td>0</td>\n",
       "      <td>2025-04-22</td>\n",
       "    </tr>\n",
       "  </tbody>\n",
       "</table>\n",
       "</div>"
      ]
     },
     "execution_count": 10,
     "metadata": {},
     "output_type": "execute_result"
    }
   ],
   "execution_count": 10
  },
  {
   "metadata": {
    "ExecuteTime": {
     "end_time": "2025-04-17T06:21:54.950606Z",
     "start_time": "2025-04-17T06:21:54.931717Z"
    }
   },
   "cell_type": "code",
   "source": "df.to_csv('data/weather/rf.csv', index=False)",
   "id": "282fd0982b335892",
   "outputs": [],
   "execution_count": 11
  }
 ],
 "metadata": {
  "kernelspec": {
   "display_name": "Python 3",
   "language": "python",
   "name": "python3"
  },
  "language_info": {
   "codemirror_mode": {
    "name": "ipython",
    "version": 2
   },
   "file_extension": ".py",
   "mimetype": "text/x-python",
   "name": "python",
   "nbconvert_exporter": "python",
   "pygments_lexer": "ipython2",
   "version": "2.7.6"
  }
 },
 "nbformat": 4,
 "nbformat_minor": 5
}
