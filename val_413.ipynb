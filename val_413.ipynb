{
 "cells": [
  {
   "cell_type": "code",
   "id": "initial_id",
   "metadata": {
    "collapsed": true,
    "ExecuteTime": {
     "end_time": "2025-04-13T05:24:40.019096Z",
     "start_time": "2025-04-13T05:24:39.120881Z"
    }
   },
   "source": [
    "import pandas as pd\n",
    "import glob\n",
    "from sklearn.metrics import mean_absolute_percentage_error"
   ],
   "outputs": [],
   "execution_count": 2
  },
  {
   "metadata": {
    "ExecuteTime": {
     "end_time": "2025-04-13T05:38:01.128671Z",
     "start_time": "2025-04-13T05:38:00.942960Z"
    }
   },
   "cell_type": "code",
   "source": [
    "true_path = 'data/round_4/*.xlsx'\n",
    "true_files = glob.glob(true_path)\n",
    "true_data_dict = {}\n",
    "name_list = []\n",
    "for file in true_files:\n",
    "    data = pd.read_excel(file)\n",
    "    name = file.split('\\\\')[-1].split('.')[0]\n",
    "    name_list.append(name)\n",
    "    true_data = data.iloc[-3:, 1].values\n",
    "    true_data_dict[name] = true_data"
   ],
   "id": "48ce95dafa082c08",
   "outputs": [],
   "execution_count": 23
  },
  {
   "metadata": {
    "ExecuteTime": {
     "end_time": "2025-04-13T05:38:01.599079Z",
     "start_time": "2025-04-13T05:38:01.586114Z"
    }
   },
   "cell_type": "code",
   "source": "true_data_dict",
   "id": "caa9b60aa431fc17",
   "outputs": [
    {
     "data": {
      "text/plain": [
       "{'Hong Kong International Airport': array([54164, 55832, 64252], dtype=int64),\n",
       " 'Hong Kong-Zhuhai-Macao Bridge': array([28309, 28153, 31023], dtype=int64),\n",
       " 'Lo Wu': array([81359, 80281, 82676], dtype=int64),\n",
       " 'Lok Ma Chau Spur Line': array([66844, 65681, 68887], dtype=int64),\n",
       " 'Shenzhen Bay': array([47487, 50984, 53957], dtype=int64)}"
      ]
     },
     "execution_count": 24,
     "metadata": {},
     "output_type": "execute_result"
    }
   ],
   "execution_count": 24
  },
  {
   "metadata": {
    "ExecuteTime": {
     "end_time": "2025-04-13T05:38:19.304876Z",
     "start_time": "2025-04-13T05:38:19.292867Z"
    }
   },
   "cell_type": "code",
   "source": "name_list",
   "id": "3e68987420e43453",
   "outputs": [
    {
     "data": {
      "text/plain": [
       "['Hong Kong International Airport',\n",
       " 'Hong Kong-Zhuhai-Macao Bridge',\n",
       " 'Lo Wu',\n",
       " 'Lok Ma Chau Spur Line',\n",
       " 'Shenzhen Bay']"
      ]
     },
     "execution_count": 26,
     "metadata": {},
     "output_type": "execute_result"
    }
   ],
   "execution_count": 26
  },
  {
   "metadata": {
    "ExecuteTime": {
     "end_time": "2025-04-13T05:42:04.808505Z",
     "start_time": "2025-04-13T05:42:04.794999Z"
    }
   },
   "cell_type": "code",
   "source": [
    "pred_path = '2025.04.09_第5小组_第1轮预测结果.xlsx'\n",
    "pred_data = pd.read_excel(pred_path, header=None)"
   ],
   "id": "b6bbddf7dad22df3",
   "outputs": [],
   "execution_count": 34
  },
  {
   "metadata": {
    "ExecuteTime": {
     "end_time": "2025-04-13T05:42:05.057824Z",
     "start_time": "2025-04-13T05:42:05.046823Z"
    }
   },
   "cell_type": "code",
   "source": "pred_data",
   "id": "7da61c0bc1b1c5f4",
   "outputs": [
    {
     "data": {
      "text/plain": [
       "        0             1             2             3             4  \\\n",
       "0      罗湖           NaN           NaN           NaN           NaN   \n",
       "1     NaN           日期1           日期2           日期3           日期4   \n",
       "2     NaN          day1          day2          day3          day4   \n",
       "3    预测结果  80033.643439  78767.546508  78861.470656  97517.935096   \n",
       "4     NaN           NaN           NaN           NaN           NaN   \n",
       "5   落马洲支线           NaN           NaN           NaN           NaN   \n",
       "6     NaN           日期1           日期2           日期3           日期4   \n",
       "7     NaN          day1          day2          day3          day4   \n",
       "8    预测结果  74790.258521  73661.570597  69691.525618   89066.18854   \n",
       "9     NaN           NaN           NaN           NaN           NaN   \n",
       "10     机场           NaN           NaN           NaN           NaN   \n",
       "11    NaN           日期1           日期2           日期3           日期4   \n",
       "12    NaN          day1          day2          day3          day4   \n",
       "13   预测结果  65650.497488  67850.657194  73783.883442  72369.336638   \n",
       "14    NaN           NaN           NaN           NaN           NaN   \n",
       "15    深圳湾           NaN           NaN           NaN           NaN   \n",
       "16    NaN           日期1           日期2           日期3           日期4   \n",
       "17    NaN          day1          day2          day3          day4   \n",
       "18   预测结果  47187.242382  47471.273296  57445.447246  64864.804714   \n",
       "19    NaN           NaN           NaN           NaN           NaN   \n",
       "20  港珠澳大桥           NaN           NaN           NaN           NaN   \n",
       "21    NaN           日期1           日期2           日期3           日期4   \n",
       "22    NaN          day1          day2          day3          day4   \n",
       "23   预测结果  29316.710766  28855.094413  35771.003394   37831.29619   \n",
       "\n",
       "                5  \n",
       "0             NaN  \n",
       "1             日期5  \n",
       "2            day5  \n",
       "3   123448.519139  \n",
       "4             NaN  \n",
       "5             NaN  \n",
       "6             日期5  \n",
       "7            day5  \n",
       "8   110657.044829  \n",
       "9             NaN  \n",
       "10            NaN  \n",
       "11            日期5  \n",
       "12           day5  \n",
       "13   74852.561619  \n",
       "14            NaN  \n",
       "15            NaN  \n",
       "16            日期5  \n",
       "17           day5  \n",
       "18   86481.819024  \n",
       "19            NaN  \n",
       "20            NaN  \n",
       "21            日期5  \n",
       "22           day5  \n",
       "23   59154.733154  "
      ],
      "text/html": [
       "<div>\n",
       "<style scoped>\n",
       "    .dataframe tbody tr th:only-of-type {\n",
       "        vertical-align: middle;\n",
       "    }\n",
       "\n",
       "    .dataframe tbody tr th {\n",
       "        vertical-align: top;\n",
       "    }\n",
       "\n",
       "    .dataframe thead th {\n",
       "        text-align: right;\n",
       "    }\n",
       "</style>\n",
       "<table border=\"1\" class=\"dataframe\">\n",
       "  <thead>\n",
       "    <tr style=\"text-align: right;\">\n",
       "      <th></th>\n",
       "      <th>0</th>\n",
       "      <th>1</th>\n",
       "      <th>2</th>\n",
       "      <th>3</th>\n",
       "      <th>4</th>\n",
       "      <th>5</th>\n",
       "    </tr>\n",
       "  </thead>\n",
       "  <tbody>\n",
       "    <tr>\n",
       "      <th>0</th>\n",
       "      <td>罗湖</td>\n",
       "      <td>NaN</td>\n",
       "      <td>NaN</td>\n",
       "      <td>NaN</td>\n",
       "      <td>NaN</td>\n",
       "      <td>NaN</td>\n",
       "    </tr>\n",
       "    <tr>\n",
       "      <th>1</th>\n",
       "      <td>NaN</td>\n",
       "      <td>日期1</td>\n",
       "      <td>日期2</td>\n",
       "      <td>日期3</td>\n",
       "      <td>日期4</td>\n",
       "      <td>日期5</td>\n",
       "    </tr>\n",
       "    <tr>\n",
       "      <th>2</th>\n",
       "      <td>NaN</td>\n",
       "      <td>day1</td>\n",
       "      <td>day2</td>\n",
       "      <td>day3</td>\n",
       "      <td>day4</td>\n",
       "      <td>day5</td>\n",
       "    </tr>\n",
       "    <tr>\n",
       "      <th>3</th>\n",
       "      <td>预测结果</td>\n",
       "      <td>80033.643439</td>\n",
       "      <td>78767.546508</td>\n",
       "      <td>78861.470656</td>\n",
       "      <td>97517.935096</td>\n",
       "      <td>123448.519139</td>\n",
       "    </tr>\n",
       "    <tr>\n",
       "      <th>4</th>\n",
       "      <td>NaN</td>\n",
       "      <td>NaN</td>\n",
       "      <td>NaN</td>\n",
       "      <td>NaN</td>\n",
       "      <td>NaN</td>\n",
       "      <td>NaN</td>\n",
       "    </tr>\n",
       "    <tr>\n",
       "      <th>5</th>\n",
       "      <td>落马洲支线</td>\n",
       "      <td>NaN</td>\n",
       "      <td>NaN</td>\n",
       "      <td>NaN</td>\n",
       "      <td>NaN</td>\n",
       "      <td>NaN</td>\n",
       "    </tr>\n",
       "    <tr>\n",
       "      <th>6</th>\n",
       "      <td>NaN</td>\n",
       "      <td>日期1</td>\n",
       "      <td>日期2</td>\n",
       "      <td>日期3</td>\n",
       "      <td>日期4</td>\n",
       "      <td>日期5</td>\n",
       "    </tr>\n",
       "    <tr>\n",
       "      <th>7</th>\n",
       "      <td>NaN</td>\n",
       "      <td>day1</td>\n",
       "      <td>day2</td>\n",
       "      <td>day3</td>\n",
       "      <td>day4</td>\n",
       "      <td>day5</td>\n",
       "    </tr>\n",
       "    <tr>\n",
       "      <th>8</th>\n",
       "      <td>预测结果</td>\n",
       "      <td>74790.258521</td>\n",
       "      <td>73661.570597</td>\n",
       "      <td>69691.525618</td>\n",
       "      <td>89066.18854</td>\n",
       "      <td>110657.044829</td>\n",
       "    </tr>\n",
       "    <tr>\n",
       "      <th>9</th>\n",
       "      <td>NaN</td>\n",
       "      <td>NaN</td>\n",
       "      <td>NaN</td>\n",
       "      <td>NaN</td>\n",
       "      <td>NaN</td>\n",
       "      <td>NaN</td>\n",
       "    </tr>\n",
       "    <tr>\n",
       "      <th>10</th>\n",
       "      <td>机场</td>\n",
       "      <td>NaN</td>\n",
       "      <td>NaN</td>\n",
       "      <td>NaN</td>\n",
       "      <td>NaN</td>\n",
       "      <td>NaN</td>\n",
       "    </tr>\n",
       "    <tr>\n",
       "      <th>11</th>\n",
       "      <td>NaN</td>\n",
       "      <td>日期1</td>\n",
       "      <td>日期2</td>\n",
       "      <td>日期3</td>\n",
       "      <td>日期4</td>\n",
       "      <td>日期5</td>\n",
       "    </tr>\n",
       "    <tr>\n",
       "      <th>12</th>\n",
       "      <td>NaN</td>\n",
       "      <td>day1</td>\n",
       "      <td>day2</td>\n",
       "      <td>day3</td>\n",
       "      <td>day4</td>\n",
       "      <td>day5</td>\n",
       "    </tr>\n",
       "    <tr>\n",
       "      <th>13</th>\n",
       "      <td>预测结果</td>\n",
       "      <td>65650.497488</td>\n",
       "      <td>67850.657194</td>\n",
       "      <td>73783.883442</td>\n",
       "      <td>72369.336638</td>\n",
       "      <td>74852.561619</td>\n",
       "    </tr>\n",
       "    <tr>\n",
       "      <th>14</th>\n",
       "      <td>NaN</td>\n",
       "      <td>NaN</td>\n",
       "      <td>NaN</td>\n",
       "      <td>NaN</td>\n",
       "      <td>NaN</td>\n",
       "      <td>NaN</td>\n",
       "    </tr>\n",
       "    <tr>\n",
       "      <th>15</th>\n",
       "      <td>深圳湾</td>\n",
       "      <td>NaN</td>\n",
       "      <td>NaN</td>\n",
       "      <td>NaN</td>\n",
       "      <td>NaN</td>\n",
       "      <td>NaN</td>\n",
       "    </tr>\n",
       "    <tr>\n",
       "      <th>16</th>\n",
       "      <td>NaN</td>\n",
       "      <td>日期1</td>\n",
       "      <td>日期2</td>\n",
       "      <td>日期3</td>\n",
       "      <td>日期4</td>\n",
       "      <td>日期5</td>\n",
       "    </tr>\n",
       "    <tr>\n",
       "      <th>17</th>\n",
       "      <td>NaN</td>\n",
       "      <td>day1</td>\n",
       "      <td>day2</td>\n",
       "      <td>day3</td>\n",
       "      <td>day4</td>\n",
       "      <td>day5</td>\n",
       "    </tr>\n",
       "    <tr>\n",
       "      <th>18</th>\n",
       "      <td>预测结果</td>\n",
       "      <td>47187.242382</td>\n",
       "      <td>47471.273296</td>\n",
       "      <td>57445.447246</td>\n",
       "      <td>64864.804714</td>\n",
       "      <td>86481.819024</td>\n",
       "    </tr>\n",
       "    <tr>\n",
       "      <th>19</th>\n",
       "      <td>NaN</td>\n",
       "      <td>NaN</td>\n",
       "      <td>NaN</td>\n",
       "      <td>NaN</td>\n",
       "      <td>NaN</td>\n",
       "      <td>NaN</td>\n",
       "    </tr>\n",
       "    <tr>\n",
       "      <th>20</th>\n",
       "      <td>港珠澳大桥</td>\n",
       "      <td>NaN</td>\n",
       "      <td>NaN</td>\n",
       "      <td>NaN</td>\n",
       "      <td>NaN</td>\n",
       "      <td>NaN</td>\n",
       "    </tr>\n",
       "    <tr>\n",
       "      <th>21</th>\n",
       "      <td>NaN</td>\n",
       "      <td>日期1</td>\n",
       "      <td>日期2</td>\n",
       "      <td>日期3</td>\n",
       "      <td>日期4</td>\n",
       "      <td>日期5</td>\n",
       "    </tr>\n",
       "    <tr>\n",
       "      <th>22</th>\n",
       "      <td>NaN</td>\n",
       "      <td>day1</td>\n",
       "      <td>day2</td>\n",
       "      <td>day3</td>\n",
       "      <td>day4</td>\n",
       "      <td>day5</td>\n",
       "    </tr>\n",
       "    <tr>\n",
       "      <th>23</th>\n",
       "      <td>预测结果</td>\n",
       "      <td>29316.710766</td>\n",
       "      <td>28855.094413</td>\n",
       "      <td>35771.003394</td>\n",
       "      <td>37831.29619</td>\n",
       "      <td>59154.733154</td>\n",
       "    </tr>\n",
       "  </tbody>\n",
       "</table>\n",
       "</div>"
      ]
     },
     "execution_count": 35,
     "metadata": {},
     "output_type": "execute_result"
    }
   ],
   "execution_count": 35
  },
  {
   "metadata": {
    "ExecuteTime": {
     "end_time": "2025-04-13T05:44:32.920038Z",
     "start_time": "2025-04-13T05:44:32.906529Z"
    }
   },
   "cell_type": "code",
   "source": [
    "pred_data_dict = {}\n",
    "index_list = [13, 23, 3, 8, 18]\n",
    "pred_index_dict = dict(zip(name_list, index_list))\n",
    "for name, idx in pred_index_dict.items():\n",
    "    pred_data_dict[name] = pred_data.iloc[idx, 1:4].values"
   ],
   "id": "a8613fb3346b5e58",
   "outputs": [],
   "execution_count": 38
  },
  {
   "metadata": {
    "ExecuteTime": {
     "end_time": "2025-04-13T05:44:33.527067Z",
     "start_time": "2025-04-13T05:44:33.513523Z"
    }
   },
   "cell_type": "code",
   "source": [
    "for name in name_list:\n",
    "    pred = pred_data_dict[name]\n",
    "    true = true_data_dict[name]\n",
    "    mape = mean_absolute_percentage_error(true, pred)\n",
    "    print(f'{name}:{mape}')"
   ],
   "id": "ece49c99361f1f70",
   "outputs": [
    {
     "name": "stdout",
     "output_type": "stream",
     "text": [
      "Hong Kong International Airport:0.1918950241803591\n",
      "Hong Kong-Zhuhai-Macao Bridge:0.07119440370589895\n",
      "Lo Wu:0.027093489642796006\n",
      "Lok Ma Chau Spur Line:0.08402053056168209\n",
      "Shenzhen Bay:0.04662112703916089\n"
     ]
    }
   ],
   "execution_count": 39
  },
  {
   "metadata": {},
   "cell_type": "code",
   "outputs": [],
   "execution_count": null,
   "source": "",
   "id": "833209d6d92b404c"
  }
 ],
 "metadata": {
  "kernelspec": {
   "display_name": "Python 3",
   "language": "python",
   "name": "python3"
  },
  "language_info": {
   "codemirror_mode": {
    "name": "ipython",
    "version": 2
   },
   "file_extension": ".py",
   "mimetype": "text/x-python",
   "name": "python",
   "nbconvert_exporter": "python",
   "pygments_lexer": "ipython2",
   "version": "2.7.6"
  }
 },
 "nbformat": 4,
 "nbformat_minor": 5
}
