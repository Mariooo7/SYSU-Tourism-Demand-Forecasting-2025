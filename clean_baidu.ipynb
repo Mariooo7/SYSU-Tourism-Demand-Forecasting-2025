{
 "cells": [
  {
   "cell_type": "code",
   "id": "initial_id",
   "metadata": {
    "collapsed": true,
    "ExecuteTime": {
     "end_time": "2025-04-17T06:26:32.398854Z",
     "start_time": "2025-04-17T06:26:32.384306Z"
    }
   },
   "source": [
    "import glob\n",
    "import pandas as pd"
   ],
   "outputs": [],
   "execution_count": 7
  },
  {
   "metadata": {
    "ExecuteTime": {
     "end_time": "2025-04-17T06:26:32.862948Z",
     "start_time": "2025-04-17T06:26:32.844998Z"
    }
   },
   "cell_type": "code",
   "source": [
    "# 定义文件路径\n",
    "filepath = glob.glob('data/baidu/*.xlsx')"
   ],
   "id": "7cd87d9273788d24",
   "outputs": [],
   "execution_count": 8
  },
  {
   "metadata": {
    "ExecuteTime": {
     "end_time": "2025-04-17T06:26:33.862709Z",
     "start_time": "2025-04-17T06:26:33.219029Z"
    }
   },
   "cell_type": "code",
   "source": [
    "# 批量读取文件\n",
    "data_dict = {}\n",
    "for file in filepath:\n",
    "    # 提取文件名作为键\n",
    "    name = file.split('\\\\')[-1].split('.')[0]\n",
    "    # 读取文件\n",
    "    data = pd.read_excel(file, parse_dates=['时间'], date_format='%Y%m%d')\n",
    "    # 重命名列\n",
    "    data = data.iloc[:, 2:]\n",
    "    data.columns = ['Date', f'{name}_sum', f'{name}_pc', f'{name}_mobile']\n",
    "    data_dict[name] = data"
   ],
   "id": "190b5ed61c44811b",
   "outputs": [],
   "execution_count": 9
  },
  {
   "metadata": {
    "ExecuteTime": {
     "end_time": "2025-04-17T06:26:33.893477Z",
     "start_time": "2025-04-17T06:26:33.865709Z"
    }
   },
   "cell_type": "code",
   "source": [
    "baidu_df = pd.DataFrame()\n",
    "for name, data in data_dict.items():\n",
    "    if baidu_df.empty:\n",
    "        baidu_df = data\n",
    "    else:\n",
    "        baidu_df = pd.merge(baidu_df, data, on='Date', how='outer')"
   ],
   "id": "b5ab19522c977375",
   "outputs": [],
   "execution_count": 10
  },
  {
   "metadata": {
    "ExecuteTime": {
     "end_time": "2025-04-17T06:26:35.295540Z",
     "start_time": "2025-04-17T06:26:35.278259Z"
    }
   },
   "cell_type": "code",
   "source": "baidu_df.head()",
   "id": "7b738626e7446633",
   "outputs": [
    {
     "data": {
      "text/plain": [
       "         Date  airport_sum  airport_pc  airport_mobile  bay_sum  bay_pc  \\\n",
       "0  2023-01-01          234          80             154      268      76   \n",
       "1  2023-01-02          314         114             200      301      95   \n",
       "2  2023-01-03          342         139             203      402     183   \n",
       "3  2023-01-04          349         137             212      401     177   \n",
       "4  2023-01-05          406         158             248      751     285   \n",
       "\n",
       "   bay_mobile  bridge_sum  bridge_pc  bridge_mobile  ...  hk_shopping_mobile  \\\n",
       "0         192        1465        250           1215  ...                  73   \n",
       "1         206        1422        287           1135  ...                  78   \n",
       "2         219        1547        430           1117  ...                  74   \n",
       "3         224        1965        613           1352  ...                  91   \n",
       "4         466        2091        667           1424  ...                  73   \n",
       "\n",
       "   hk_show_sum  hk_show_pc  hk_show_mobile  hk_weather_sum  hk_weather_pc  \\\n",
       "0          205          74             131            1660            202   \n",
       "1          223          72             151            1984            343   \n",
       "2          217          85             132            2114            374   \n",
       "3          205          74             131            1981            374   \n",
       "4          308         121             187            2003            367   \n",
       "\n",
       "   hk_weather_mobile  lowu_sum  lowu_pc  lowu_mobile  \n",
       "0               1458       229       70          159  \n",
       "1               1641       257       83          174  \n",
       "2               1740       340      125          215  \n",
       "3               1607       379      148          231  \n",
       "4               1636       537      204          333  \n",
       "\n",
       "[5 rows x 37 columns]"
      ],
      "text/html": [
       "<div>\n",
       "<style scoped>\n",
       "    .dataframe tbody tr th:only-of-type {\n",
       "        vertical-align: middle;\n",
       "    }\n",
       "\n",
       "    .dataframe tbody tr th {\n",
       "        vertical-align: top;\n",
       "    }\n",
       "\n",
       "    .dataframe thead th {\n",
       "        text-align: right;\n",
       "    }\n",
       "</style>\n",
       "<table border=\"1\" class=\"dataframe\">\n",
       "  <thead>\n",
       "    <tr style=\"text-align: right;\">\n",
       "      <th></th>\n",
       "      <th>Date</th>\n",
       "      <th>airport_sum</th>\n",
       "      <th>airport_pc</th>\n",
       "      <th>airport_mobile</th>\n",
       "      <th>bay_sum</th>\n",
       "      <th>bay_pc</th>\n",
       "      <th>bay_mobile</th>\n",
       "      <th>bridge_sum</th>\n",
       "      <th>bridge_pc</th>\n",
       "      <th>bridge_mobile</th>\n",
       "      <th>...</th>\n",
       "      <th>hk_shopping_mobile</th>\n",
       "      <th>hk_show_sum</th>\n",
       "      <th>hk_show_pc</th>\n",
       "      <th>hk_show_mobile</th>\n",
       "      <th>hk_weather_sum</th>\n",
       "      <th>hk_weather_pc</th>\n",
       "      <th>hk_weather_mobile</th>\n",
       "      <th>lowu_sum</th>\n",
       "      <th>lowu_pc</th>\n",
       "      <th>lowu_mobile</th>\n",
       "    </tr>\n",
       "  </thead>\n",
       "  <tbody>\n",
       "    <tr>\n",
       "      <th>0</th>\n",
       "      <td>2023-01-01</td>\n",
       "      <td>234</td>\n",
       "      <td>80</td>\n",
       "      <td>154</td>\n",
       "      <td>268</td>\n",
       "      <td>76</td>\n",
       "      <td>192</td>\n",
       "      <td>1465</td>\n",
       "      <td>250</td>\n",
       "      <td>1215</td>\n",
       "      <td>...</td>\n",
       "      <td>73</td>\n",
       "      <td>205</td>\n",
       "      <td>74</td>\n",
       "      <td>131</td>\n",
       "      <td>1660</td>\n",
       "      <td>202</td>\n",
       "      <td>1458</td>\n",
       "      <td>229</td>\n",
       "      <td>70</td>\n",
       "      <td>159</td>\n",
       "    </tr>\n",
       "    <tr>\n",
       "      <th>1</th>\n",
       "      <td>2023-01-02</td>\n",
       "      <td>314</td>\n",
       "      <td>114</td>\n",
       "      <td>200</td>\n",
       "      <td>301</td>\n",
       "      <td>95</td>\n",
       "      <td>206</td>\n",
       "      <td>1422</td>\n",
       "      <td>287</td>\n",
       "      <td>1135</td>\n",
       "      <td>...</td>\n",
       "      <td>78</td>\n",
       "      <td>223</td>\n",
       "      <td>72</td>\n",
       "      <td>151</td>\n",
       "      <td>1984</td>\n",
       "      <td>343</td>\n",
       "      <td>1641</td>\n",
       "      <td>257</td>\n",
       "      <td>83</td>\n",
       "      <td>174</td>\n",
       "    </tr>\n",
       "    <tr>\n",
       "      <th>2</th>\n",
       "      <td>2023-01-03</td>\n",
       "      <td>342</td>\n",
       "      <td>139</td>\n",
       "      <td>203</td>\n",
       "      <td>402</td>\n",
       "      <td>183</td>\n",
       "      <td>219</td>\n",
       "      <td>1547</td>\n",
       "      <td>430</td>\n",
       "      <td>1117</td>\n",
       "      <td>...</td>\n",
       "      <td>74</td>\n",
       "      <td>217</td>\n",
       "      <td>85</td>\n",
       "      <td>132</td>\n",
       "      <td>2114</td>\n",
       "      <td>374</td>\n",
       "      <td>1740</td>\n",
       "      <td>340</td>\n",
       "      <td>125</td>\n",
       "      <td>215</td>\n",
       "    </tr>\n",
       "    <tr>\n",
       "      <th>3</th>\n",
       "      <td>2023-01-04</td>\n",
       "      <td>349</td>\n",
       "      <td>137</td>\n",
       "      <td>212</td>\n",
       "      <td>401</td>\n",
       "      <td>177</td>\n",
       "      <td>224</td>\n",
       "      <td>1965</td>\n",
       "      <td>613</td>\n",
       "      <td>1352</td>\n",
       "      <td>...</td>\n",
       "      <td>91</td>\n",
       "      <td>205</td>\n",
       "      <td>74</td>\n",
       "      <td>131</td>\n",
       "      <td>1981</td>\n",
       "      <td>374</td>\n",
       "      <td>1607</td>\n",
       "      <td>379</td>\n",
       "      <td>148</td>\n",
       "      <td>231</td>\n",
       "    </tr>\n",
       "    <tr>\n",
       "      <th>4</th>\n",
       "      <td>2023-01-05</td>\n",
       "      <td>406</td>\n",
       "      <td>158</td>\n",
       "      <td>248</td>\n",
       "      <td>751</td>\n",
       "      <td>285</td>\n",
       "      <td>466</td>\n",
       "      <td>2091</td>\n",
       "      <td>667</td>\n",
       "      <td>1424</td>\n",
       "      <td>...</td>\n",
       "      <td>73</td>\n",
       "      <td>308</td>\n",
       "      <td>121</td>\n",
       "      <td>187</td>\n",
       "      <td>2003</td>\n",
       "      <td>367</td>\n",
       "      <td>1636</td>\n",
       "      <td>537</td>\n",
       "      <td>204</td>\n",
       "      <td>333</td>\n",
       "    </tr>\n",
       "  </tbody>\n",
       "</table>\n",
       "<p>5 rows × 37 columns</p>\n",
       "</div>"
      ]
     },
     "execution_count": 12,
     "metadata": {},
     "output_type": "execute_result"
    }
   ],
   "execution_count": 12
  },
  {
   "metadata": {
    "ExecuteTime": {
     "end_time": "2025-04-17T06:26:36.367971Z",
     "start_time": "2025-04-17T06:26:36.352945Z"
    }
   },
   "cell_type": "code",
   "source": "baidu_df.to_csv('data/baidu/baidu_df.csv', index=False)",
   "id": "669d52d7285c39d5",
   "outputs": [],
   "execution_count": 13
  }
 ],
 "metadata": {
  "kernelspec": {
   "display_name": "Python 3",
   "language": "python",
   "name": "python3"
  },
  "language_info": {
   "codemirror_mode": {
    "name": "ipython",
    "version": 2
   },
   "file_extension": ".py",
   "mimetype": "text/x-python",
   "name": "python",
   "nbconvert_exporter": "python",
   "pygments_lexer": "ipython2",
   "version": "2.7.6"
  }
 },
 "nbformat": 4,
 "nbformat_minor": 5
}
