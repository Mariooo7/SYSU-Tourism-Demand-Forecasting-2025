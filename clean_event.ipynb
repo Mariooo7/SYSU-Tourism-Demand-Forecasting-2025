{
 "cells": [
  {
   "cell_type": "code",
   "id": "9d4e57acfed45969",
   "metadata": {
    "ExecuteTime": {
     "end_time": "2025-04-16T06:28:13.018961Z",
     "start_time": "2025-04-16T06:28:13.013550Z"
    }
   },
   "source": [
    "import pandas as pd\n",
    "import numpy as np"
   ],
   "outputs": [],
   "execution_count": 4
  },
  {
   "metadata": {
    "ExecuteTime": {
     "end_time": "2025-04-16T06:35:11.913102Z",
     "start_time": "2025-04-16T06:35:11.896535Z"
    }
   },
   "cell_type": "code",
   "source": "event_data = pd.read_csv('data/event/event.csv', parse_dates=['日期'], date_format='%Y/%m/%d')",
   "id": "203ff623878ef475",
   "outputs": [],
   "execution_count": 12
  },
  {
   "metadata": {
    "ExecuteTime": {
     "end_time": "2025-04-16T06:36:57.009549Z",
     "start_time": "2025-04-16T06:36:56.979303Z"
    }
   },
   "cell_type": "code",
   "source": [
    "event_data.columns = ['Date', '描述', '影响', '类别']\n",
    "# 创建完整日期范围\n",
    "min_date = pd.to_datetime('2023-01-01')\n",
    "max_date = pd.to_datetime('2025-4-21')\n",
    "full_dates = pd.date_range(start=min_date, end=max_date, freq='D')\n",
    "# 构建事件特征矩阵\n",
    "events = pd.DataFrame(index=full_dates)\n",
    "# 生成核心特征\n",
    "impact_mapping = {\n",
    "    '正面': 1,\n",
    "    '负面': -1,\n",
    "    np.nan: 0  # 处理无事件日期\n",
    "}\n",
    "event_impact = (\n",
    "    event_data.groupby('Date')['影响']\n",
    "    .apply(lambda x: x.map(impact_mapping).max())\n",
    "    .reindex(full_dates)\n",
    "    .fillna(0)\n",
    ")\n",
    "# 事件类型编码\n",
    "event_type_dummies = (\n",
    "    event_data.groupby(['Date', '类别']).size().unstack(fill_value=0)\n",
    "    .reindex(full_dates, fill_value=0)\n",
    "    .clip(upper=1)  # 确保值为0或1\n",
    "    .add_prefix('event_')\n",
    ")\n",
    "\n",
    "events_df = pd.concat([events, event_type_dummies], axis=1).reset_index(names='Date')\n",
    "events_df['event_impact'] = event_impact.values.astype(int)\n",
    "events_df.tail()"
   ],
   "id": "498e80c10b064f5f",
   "outputs": [
    {
     "data": {
      "text/plain": [
       "          Date  event_体育赛事  event_国际会议  event_国际体育赛事  event_国际大型演唱会  \\\n",
       "837 2025-04-17           0           1             0              0   \n",
       "838 2025-04-18           0           0             0              0   \n",
       "839 2025-04-19           0           0             0              0   \n",
       "840 2025-04-20           0           0             0              0   \n",
       "841 2025-04-21           0           0             0              0   \n",
       "\n",
       "     event_大型演唱会  event_极端天气  event_impact  \n",
       "837            0           0             1  \n",
       "838            0           0             0  \n",
       "839            0           0             0  \n",
       "840            0           0             0  \n",
       "841            0           0             0  "
      ],
      "text/html": [
       "<div>\n",
       "<style scoped>\n",
       "    .dataframe tbody tr th:only-of-type {\n",
       "        vertical-align: middle;\n",
       "    }\n",
       "\n",
       "    .dataframe tbody tr th {\n",
       "        vertical-align: top;\n",
       "    }\n",
       "\n",
       "    .dataframe thead th {\n",
       "        text-align: right;\n",
       "    }\n",
       "</style>\n",
       "<table border=\"1\" class=\"dataframe\">\n",
       "  <thead>\n",
       "    <tr style=\"text-align: right;\">\n",
       "      <th></th>\n",
       "      <th>Date</th>\n",
       "      <th>event_体育赛事</th>\n",
       "      <th>event_国际会议</th>\n",
       "      <th>event_国际体育赛事</th>\n",
       "      <th>event_国际大型演唱会</th>\n",
       "      <th>event_大型演唱会</th>\n",
       "      <th>event_极端天气</th>\n",
       "      <th>event_impact</th>\n",
       "    </tr>\n",
       "  </thead>\n",
       "  <tbody>\n",
       "    <tr>\n",
       "      <th>837</th>\n",
       "      <td>2025-04-17</td>\n",
       "      <td>0</td>\n",
       "      <td>1</td>\n",
       "      <td>0</td>\n",
       "      <td>0</td>\n",
       "      <td>0</td>\n",
       "      <td>0</td>\n",
       "      <td>1</td>\n",
       "    </tr>\n",
       "    <tr>\n",
       "      <th>838</th>\n",
       "      <td>2025-04-18</td>\n",
       "      <td>0</td>\n",
       "      <td>0</td>\n",
       "      <td>0</td>\n",
       "      <td>0</td>\n",
       "      <td>0</td>\n",
       "      <td>0</td>\n",
       "      <td>0</td>\n",
       "    </tr>\n",
       "    <tr>\n",
       "      <th>839</th>\n",
       "      <td>2025-04-19</td>\n",
       "      <td>0</td>\n",
       "      <td>0</td>\n",
       "      <td>0</td>\n",
       "      <td>0</td>\n",
       "      <td>0</td>\n",
       "      <td>0</td>\n",
       "      <td>0</td>\n",
       "    </tr>\n",
       "    <tr>\n",
       "      <th>840</th>\n",
       "      <td>2025-04-20</td>\n",
       "      <td>0</td>\n",
       "      <td>0</td>\n",
       "      <td>0</td>\n",
       "      <td>0</td>\n",
       "      <td>0</td>\n",
       "      <td>0</td>\n",
       "      <td>0</td>\n",
       "    </tr>\n",
       "    <tr>\n",
       "      <th>841</th>\n",
       "      <td>2025-04-21</td>\n",
       "      <td>0</td>\n",
       "      <td>0</td>\n",
       "      <td>0</td>\n",
       "      <td>0</td>\n",
       "      <td>0</td>\n",
       "      <td>0</td>\n",
       "      <td>0</td>\n",
       "    </tr>\n",
       "  </tbody>\n",
       "</table>\n",
       "</div>"
      ]
     },
     "execution_count": 18,
     "metadata": {},
     "output_type": "execute_result"
    }
   ],
   "execution_count": 18
  },
  {
   "metadata": {
    "collapsed": true,
    "ExecuteTime": {
     "end_time": "2025-04-16T06:37:12.318637Z",
     "start_time": "2025-04-16T06:37:12.310637Z"
    }
   },
   "cell_type": "code",
   "source": [
    "# 处理并保存事件数据\n",
    "events_df.to_csv('data/event/events.csv', index=False)"
   ],
   "id": "initial_id",
   "outputs": [],
   "execution_count": 20
  }
 ],
 "metadata": {
  "kernelspec": {
   "display_name": "Python 3",
   "language": "python",
   "name": "python3"
  },
  "language_info": {
   "codemirror_mode": {
    "name": "ipython",
    "version": 2
   },
   "file_extension": ".py",
   "mimetype": "text/x-python",
   "name": "python",
   "nbconvert_exporter": "python",
   "pygments_lexer": "ipython2",
   "version": "2.7.6"
  }
 },
 "nbformat": 4,
 "nbformat_minor": 5
}
